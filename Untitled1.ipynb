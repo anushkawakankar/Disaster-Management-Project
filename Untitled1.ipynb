{
 "cells": [
  {
   "cell_type": "code",
   "execution_count": 4,
   "metadata": {},
   "outputs": [],
   "source": [
    "d1 = \"plot: two teen couples go to a church party, drink and then drive.\"\n",
    "d2 = \"films adapted from comic books have had plenty of success , whether they're about superheroes ( batman , superman , spawn ) , or geared toward kids ( casper ) or the arthouse crowd ( ghost world ) , but there's never really been a comic book like from hell before . \"\n",
    "d3 = \"every now and then a movie comes along from a suspect studio , with every indication that it will be a stinker , and to everybody's surprise ( perhaps even the studio ) the film becomes a critical darling . \"\n",
    "d4 = \"damn that y2k bug . \"\n",
    "dataset = [d1, d2, d3, d4]"
   ]
  },
  {
   "cell_type": "code",
   "execution_count": 10,
   "metadata": {},
   "outputs": [
    {
     "name": "stderr",
     "output_type": "stream",
     "text": [
      "[nltk_data] Downloading package punkt to /Users/aditya/nltk_data...\n",
      "[nltk_data]   Package punkt is already up-to-date!\n",
      "[nltk_data] Downloading package averaged_perceptron_tagger to\n",
      "[nltk_data]     /Users/aditya/nltk_data...\n",
      "[nltk_data]   Package averaged_perceptron_tagger is already up-to-\n",
      "[nltk_data]       date!\n",
      "[nltk_data] Downloading package stopwords to\n",
      "[nltk_data]     /Users/aditya/nltk_data...\n",
      "[nltk_data]   Package stopwords is already up-to-date!\n",
      "[nltk_data] Downloading package wordnet to /Users/aditya/nltk_data...\n",
      "[nltk_data]   Package wordnet is already up-to-date!\n"
     ]
    }
   ],
   "source": [
    "from collections import defaultdict\n",
    "from nltk.corpus import stopwords\n",
    "from nltk.stem.porter import PorterStemmer\n",
    "from nltk.tokenize import word_tokenize\n",
    "from tqdm import tqdm\n",
    "from xml.dom import minidom\n",
    "from collections import Counter\n",
    "import ast\n",
    "import os\n",
    "import glob\n",
    "import json\n",
    "import nltk\n",
    "import numpy as np\n",
    "nltk.download('punkt')\n",
    "nltk.download('averaged_perceptron_tagger')\n",
    "nltk.download('stopwords')\n",
    "nltk.download('wordnet')\n",
    "import string"
   ]
  },
  {
   "cell_type": "code",
   "execution_count": 7,
   "metadata": {},
   "outputs": [],
   "source": [
    "def preprocess(text):\n",
    "  # print(text)\n",
    "  tokens = word_tokenize(text)\n",
    "  tokens = [w.lower() for w in tokens]\n",
    "  # print(tokens)\n",
    "  table = str.maketrans('', '', string.punctuation)\n",
    "  stripped = [w.translate(table) for w in tokens]\n",
    "  words = [word for word in stripped if word.isalpha()]\n",
    "  stop_words = set(stopwords.words('english'))\n",
    "  words = [w for w in words if not w in stop_words]\n",
    "  porter = PorterStemmer()\n",
    "  stemmed = [porter.stem(word) for word in words]\n",
    "  return stemmed"
   ]
  },
  {
   "cell_type": "code",
   "execution_count": 31,
   "metadata": {},
   "outputs": [],
   "source": [
    "DF = {}\n",
    "i = 0\n",
    "for text in dataset:\n",
    "  i = i + 1\n",
    "  try:\n",
    "    tokens = preprocess(text)\n",
    "    \n",
    "    for w in tokens:\n",
    "        try:\n",
    "            DF[w].add(i)\n",
    "        except:\n",
    "            DF[w] = {i}\n",
    "  except:\n",
    "    pass\n",
    "for i in DF:\n",
    "    DF[i] = len(DF[i])"
   ]
  },
  {
   "cell_type": "code",
   "execution_count": 33,
   "metadata": {},
   "outputs": [],
   "source": [
    "\n",
    "doc = 0\n",
    "tf_idf = {}\n",
    "\n",
    "for text in dataset:\n",
    "  \n",
    "    tokens = preprocess(text)\n",
    "    \n",
    "    counter = Counter(tokens)\n",
    "    words_count = len(tokens)\n",
    "    \n",
    "    for token in np.unique(tokens):\n",
    "        \n",
    "        tf = counter[token]/words_count\n",
    "        df = DF[token]\n",
    "        idf = np.log((len(dataset)+1)/(df+1))\n",
    "        \n",
    "        tf_idf[doc, token] = tf*idf\n",
    "        # print(doc,token,tf*idf)\n",
    "\n",
    "    doc += 1\n",
    "\n",
    "    "
   ]
  },
  {
   "cell_type": "code",
   "execution_count": 50,
   "metadata": {},
   "outputs": [],
   "source": [
    "def matching_score(query):\n",
    "    tokens = preprocess(query)\n",
    "\n",
    "    print(\"Matching Score\")\n",
    "    print(\"\\nQuery:\", query)\n",
    "    print(\"\")\n",
    "    print(tokens)\n",
    "    \n",
    "    query_weights = {}\n",
    "\n",
    "    for key in tf_idf:\n",
    "        \n",
    "        if key[1] in tokens:\n",
    "            try:\n",
    "                query_weights[key[0]] += tf_idf[key]\n",
    "            except:\n",
    "                query_weights[key[0]] = tf_idf[key]\n",
    "    \n",
    "    query_weights = sorted(query_weights.items(), key=lambda x: x[1], reverse=True)\n",
    "    print(len(query_weights))\n",
    "    print(\"\")\n",
    "    \n",
    "    l = []\n",
    "    \n",
    "    for i in query_weights[:3]:\n",
    "        l.append(i[0])\n",
    "    \n",
    "    print(l)\n",
    "    return l"
   ]
  },
  {
   "cell_type": "code",
   "execution_count": 8,
   "metadata": {},
   "outputs": [],
   "source": [
    "query = \"Every now and then a comic book comes along couples\""
   ]
  },
  {
   "cell_type": "code",
   "execution_count": 54,
   "metadata": {},
   "outputs": [
    {
     "name": "stdout",
     "output_type": "stream",
     "text": [
      "Matching Score\n",
      "\n",
      "Query: Every now and then a comic book comes along couples\n",
      "\n",
      "['everi', 'comic', 'book', 'come', 'along', 'coupl']\n",
      "3\n",
      "\n",
      "[2, 1, 0]\n"
     ]
    },
    {
     "data": {
      "text/plain": [
       "[2, 1, 0]"
      ]
     },
     "execution_count": 54,
     "metadata": {},
     "output_type": "execute_result"
    }
   ],
   "source": [
    "matching_score(query)"
   ]
  },
  {
   "cell_type": "code",
   "execution_count": 11,
   "metadata": {},
   "outputs": [],
   "source": [
    "def wanker(dataset, query):\n",
    "    DF = {}\n",
    "    i = 0\n",
    "    for text in dataset:\n",
    "      i = i + 1\n",
    "      try:\n",
    "        tokens = preprocess(text)\n",
    "\n",
    "        for w in tokens:\n",
    "            try:\n",
    "                DF[w].add(i)\n",
    "            except:\n",
    "                DF[w] = {i}\n",
    "      except:\n",
    "        pass\n",
    "    for i in DF:\n",
    "        DF[i] = len(DF[i])\n",
    "    \n",
    "    doc = 0\n",
    "    tf_idf = {}\n",
    "\n",
    "    for text in dataset:\n",
    "\n",
    "        tokens = preprocess(text)\n",
    "\n",
    "        counter = Counter(tokens)\n",
    "        words_count = len(tokens)\n",
    "\n",
    "        for token in np.unique(tokens):\n",
    "\n",
    "            tf = counter[token]/words_count\n",
    "            df = DF[token]\n",
    "            idf = np.log((len(dataset)+1)/(df+1))\n",
    "\n",
    "            tf_idf[doc, token] = tf*idf\n",
    "            # print(doc,token,tf*idf)\n",
    "\n",
    "        doc += 1\n",
    "        \n",
    "        \n",
    "    tokens = preprocess(query)\n",
    "\n",
    "    print(\"Matching Score\")\n",
    "    print(\"\\nQuery:\", query)\n",
    "    print(\"\")\n",
    "    print(tokens)\n",
    "    \n",
    "    query_weights = {}\n",
    "\n",
    "    for key in tf_idf:\n",
    "        \n",
    "        if key[1] in tokens:\n",
    "            try:\n",
    "                query_weights[key[0]] += tf_idf[key]\n",
    "            except:\n",
    "                query_weights[key[0]] = tf_idf[key]\n",
    "    \n",
    "    query_weights = sorted(query_weights.items(), key=lambda x: x[1], reverse=True)\n",
    "    print(len(query_weights))\n",
    "    print(\"\")\n",
    "    \n",
    "    l = []\n",
    "    \n",
    "    for i in query_weights[:3]:\n",
    "        l.append(i[0])\n",
    "    \n",
    "    print(l)\n",
    "    return l"
   ]
  },
  {
   "cell_type": "code",
   "execution_count": 12,
   "metadata": {},
   "outputs": [
    {
     "name": "stdout",
     "output_type": "stream",
     "text": [
      "Matching Score\n",
      "\n",
      "Query: Every now and then a comic book comes along couples\n",
      "\n",
      "['everi', 'comic', 'book', 'come', 'along', 'coupl']\n",
      "3\n",
      "\n",
      "[2, 1, 0]\n"
     ]
    },
    {
     "data": {
      "text/plain": [
       "[2, 1, 0]"
      ]
     },
     "execution_count": 12,
     "metadata": {},
     "output_type": "execute_result"
    }
   ],
   "source": [
    "wanker(dataset,query)"
   ]
  },
  {
   "cell_type": "code",
   "execution_count": null,
   "metadata": {},
   "outputs": [],
   "source": []
  }
 ],
 "metadata": {
  "kernelspec": {
   "display_name": "Python 3",
   "language": "python",
   "name": "python3"
  },
  "language_info": {
   "codemirror_mode": {
    "name": "ipython",
    "version": 3
   },
   "file_extension": ".py",
   "mimetype": "text/x-python",
   "name": "python",
   "nbconvert_exporter": "python",
   "pygments_lexer": "ipython3",
   "version": "3.7.7"
  }
 },
 "nbformat": 4,
 "nbformat_minor": 4
}
